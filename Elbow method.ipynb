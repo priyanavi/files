{
 "cells": [
  {
   "cell_type": "code",
   "execution_count": 1,
   "id": "ec92ce3c",
   "metadata": {},
   "outputs": [],
   "source": [
    "import pandas as pd\n",
    "data = pd.read_csv('credit_1.csv')\n"
   ]
  },
  {
   "cell_type": "code",
   "execution_count": null,
   "id": "a08b568d",
   "metadata": {},
   "outputs": [],
   "source": [
    "import numpy as np\n",
    "import matplotlib.pyplot as plt\n",
    "from sklearn.cluster import KMeans\n",
    "from sklearn.datasets import make_blobs\n",
    "\n",
    "# Generate sample data (you can replace this with your own dataset)\n",
    "X = data.drop(\"Class\",axis=1)\n",
    "Y = X.values\n",
    "# Use the Elbow Method to find the optimal number of clusters\n",
    "wcss = []\n",
    "for i in range(1, 31):\n",
    "    kmeans = KMeans(n_clusters=i, init='k-means++', max_iter=500, n_init=20, random_state=0)\n",
    "    kmeans.fit(Y)\n",
    "    wcss.append(kmeans.inertia_)\n",
    "print(\"kmeans.inertia_\",kmeans.inertia_)\n",
    "# Plot the Elbow Method graph\n",
    "plt.figure(figsize=(10,6))\n",
    "plt.plot(range(1, 31), wcss, marker='o', linestyle='-', color='b')\n",
    "plt.title('Elbow Method for Optimal Number of Clusters')\n",
    "plt.xlabel('Number of Clusters')\n",
    "plt.ylabel('Within-Cluster Sum of Squares (WCSS)')\n",
    "plt.grid(True)\n",
    "plt.show()\n",
    "\n",
    "# Choose the optimal number of clusters based on the Elbow Method\n",
    "optimal_k = np.argmin(wcss) + 1\n",
    "print(\"the value is\",np.argmin(np.wcss))\n",
    "print(\"Optimal number of clusters:\", optimal_k)\n",
    "\n",
    "# Perform K-means clustering with the optimal number of clusters\n",
    "kmeans = KMeans(n_clusters=optimal_k, init='k-means++', max_iter=300, n_init=10, random_state=0)\n",
    "kmeans.fit(Y)\n",
    "\n",
    "# Visualize the clusters\n",
    "plt.figure(figsize=(10,6))\n",
    "for i in range(optimal_k):\n",
    "    plt.scatter(Y[kmeans.labels_ == i, 0], Y[kmeans.labels_ == i, 1], s=50, label=f'Cluster {i+1}')\n",
    "plt.scatter(kmeans.cluster_centers_[:, 0], kmeans.cluster_centers_[:, 1], s=200, marker='*', c='red', label='Centroids')\n",
    "plt.title('K-means Clustering with Optimal Number of Clusters')\n",
    "plt.xlabel('Feature 1')\n",
    "plt.ylabel('Feature 2')\n",
    "plt.legend()\n",
    "plt.grid(True)\n",
    "plt.show()\n"
   ]
  },
  {
   "cell_type": "code",
   "execution_count": null,
   "id": "0b133816",
   "metadata": {},
   "outputs": [],
   "source": []
  },
  {
   "cell_type": "code",
   "execution_count": null,
   "id": "db3f02d8",
   "metadata": {},
   "outputs": [],
   "source": []
  }
 ],
 "metadata": {
  "kernelspec": {
   "display_name": "Python 3 (ipykernel)",
   "language": "python",
   "name": "python3"
  },
  "language_info": {
   "codemirror_mode": {
    "name": "ipython",
    "version": 3
   },
   "file_extension": ".py",
   "mimetype": "text/x-python",
   "name": "python",
   "nbconvert_exporter": "python",
   "pygments_lexer": "ipython3",
   "version": "3.11.5"
  }
 },
 "nbformat": 4,
 "nbformat_minor": 5
}
