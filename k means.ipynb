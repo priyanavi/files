{
 "cells": [
  {
   "cell_type": "code",
   "execution_count": 1,
   "id": "ed7386ad",
   "metadata": {},
   "outputs": [],
   "source": [
    "import pandas as pd\n",
    "df=pd.read_csv(\"credit_1.csv\")"
   ]
  },
  {
   "cell_type": "code",
   "execution_count": 2,
   "id": "086b6dd3",
   "metadata": {},
   "outputs": [],
   "source": [
    "x=df.drop(\"Class\",axis=1)\n",
    "y=df[\"Class\"]"
   ]
  },
  {
   "cell_type": "code",
   "execution_count": 3,
   "id": "e95de86f",
   "metadata": {},
   "outputs": [
    {
     "name": "stdout",
     "output_type": "stream",
     "text": [
      "            Time        V1        V2        V3        V4        V5        V6  \\\n",
      "0      -2.000786 -1.359807 -0.072781  2.536347  1.378155 -0.338321  0.462388   \n",
      "1      -2.000786  1.191857  0.266151  0.166480  0.448154  0.060018 -0.082361   \n",
      "2      -2.000760 -1.358354 -1.340163  1.773209  0.379780 -0.503198  1.800499   \n",
      "3      -2.000760 -0.966272 -0.185226  1.792993 -0.863291 -0.010309  1.247203   \n",
      "4      -2.000735 -1.158233  0.877737  1.548718  0.403034 -0.407193  0.095921   \n",
      "...          ...       ...       ...       ...       ...       ...       ...   \n",
      "227842  1.675729 -1.781954  2.062680 -3.758871 -1.801001 -0.084365  1.919610   \n",
      "227843  1.675729 -0.061507  1.024900 -0.170060 -0.263220  0.982164 -1.162749   \n",
      "227844  1.675779  2.050034 -0.103557 -1.204713  0.207198  0.108850 -0.665621   \n",
      "227845  1.675805  1.914027 -0.490068 -0.326111  0.604711 -0.850136 -0.736319   \n",
      "227846  1.675830  2.152696 -0.036161 -2.231811  0.091766  0.537612 -1.368103   \n",
      "\n",
      "              V7        V8        V9  ...       V20       V21       V22  \\\n",
      "0       0.239599  0.098698  0.363787  ...  0.251412 -0.018307  0.277838   \n",
      "1      -0.078803  0.085102 -0.255425  ... -0.069083 -0.225775 -0.638672   \n",
      "2       0.791461  0.247676 -1.514654  ...  0.524980  0.247998  0.771679   \n",
      "3       0.237609  0.377436 -1.387024  ... -0.208038 -0.108300  0.005274   \n",
      "4       0.592941 -0.270533  0.817739  ...  0.408542 -0.009431  0.798278   \n",
      "...          ...       ...       ...  ...       ...       ...       ...   \n",
      "227842 -1.454364 -9.825473 -2.073119  ... -0.690810  1.234747  0.376804   \n",
      "227843  1.468942 -0.648407 -0.157586  ...  0.035225  0.299618  1.177722   \n",
      "227844  0.073598 -0.164464  0.303531  ... -0.201782 -0.263799 -0.654763   \n",
      "227845 -0.524058 -0.088614  1.091125  ... -0.139579  0.210958  0.639338   \n",
      "227846  0.613327 -0.455252  0.291814  ... -0.275778  0.017153  0.063242   \n",
      "\n",
      "             V23       V24       V25       V26       V27       V28    Amount  \n",
      "0      -0.110474  0.066928  0.128539 -0.189115  0.133558 -0.021053  0.234711  \n",
      "1       0.101288 -0.339846  0.167170  0.125895 -0.008983  0.014724 -0.351831  \n",
      "2       0.909412 -0.689281 -0.327642 -0.139097 -0.055353 -0.059752  1.149034  \n",
      "3      -0.190321 -1.175575  0.647376 -0.221929  0.062723  0.061458  0.130440  \n",
      "4      -0.137458  0.141267 -0.206010  0.502292  0.219422  0.215153 -0.083171  \n",
      "...          ...       ...       ...       ...       ...       ...       ...  \n",
      "227842 -0.339706 -0.216688 -1.555393  0.655873  0.777662  0.272753  1.071670  \n",
      "227843 -0.296209 -0.140335 -0.465171 -0.197933 -0.048916  0.023871 -0.205285  \n",
      "227844  0.280573 -0.405691 -0.274672  0.202719 -0.074529 -0.074279 -0.361891  \n",
      "227845  0.147523  0.073654 -0.318378  0.350612 -0.023843 -0.037139 -0.162970  \n",
      "227846 -0.034561 -0.626866  0.249213  0.773931 -0.137115 -0.090611 -0.302889  \n",
      "\n",
      "[227847 rows x 30 columns]\n"
     ]
    }
   ],
   "source": [
    "from sklearn.preprocessing import StandardScaler\n",
    "scaler = StandardScaler()\n",
    "x[\"Time\"]=scaler.fit_transform(x[[\"Time\"]])\n",
    "x[\"Amount\"]=scaler.fit_transform(x[[\"Amount\"]])\n",
    "print(x)\n"
   ]
  },
  {
   "cell_type": "code",
   "execution_count": 4,
   "id": "e837944d",
   "metadata": {},
   "outputs": [
    {
     "data": {
      "text/plain": [
       "<Axes: xlabel='Class', ylabel='count'>"
      ]
     },
     "execution_count": 4,
     "metadata": {},
     "output_type": "execute_result"
    },
    {
     "data": {
      "image/png": "[encoded data removed]",
      "text/plain": [
       "<Figure size 640x480 with 1 Axes>"
      ]
     },
     "metadata": {},
     "output_type": "display_data"
    }
   ],
   "source": [
    "import seaborn as sns\n",
    "sns.countplot(x=df[\"Class\"])"
   ]
  },
  {
   "cell_type": "code",
   "execution_count": 5,
   "id": "2b08a74b",
   "metadata": {},
   "outputs": [],
   "source": [
    "from sklearn.model_selection import train_test_split\n",
    "x_train,x_test,y_train,y_test=train_test_split(x,y,test_size=0.20,random_state=42)\n",
    "#x_test=scaler.transform(x_test)"
   ]
  },
  {
   "cell_type": "code",
   "execution_count": 6,
   "id": "8b48d7dc",
   "metadata": {},
   "outputs": [],
   "source": [
    "import numpy as np\n",
    "from imblearn.over_sampling import SMOTE\n",
    "smote=SMOTE(random_state=42)\n",
    "x_train_resample,y_train_resample=smote.fit_resample(x_train,y_train)\n",
    "r=x_train_resample"
   ]
  },
  {
   "cell_type": "code",
   "execution_count": 7,
   "id": "1ee1b600",
   "metadata": {},
   "outputs": [
    {
     "data": {
      "text/plain": [
       "<Axes: xlabel='Class', ylabel='count'>"
      ]
     },
     "execution_count": 7,
     "metadata": {},
     "output_type": "execute_result"
    },
    {
     "data": {
      "image/png": "[encoded data removed]",
      "text/plain": [
       "<Figure size 640x480 with 1 Axes>"
      ]
     },
     "metadata": {},
     "output_type": "display_data"
    }
   ],
   "source": [
    "import seaborn as sns\n",
    "sns.countplot(x=df[\"Class\"])"
   ]
  },
  {
   "cell_type": "code",
   "execution_count": 8,
   "id": "7589e7b6",
   "metadata": {},
   "outputs": [
    {
     "data": {
      "text/plain": [
       "(227847, 31)"
      ]
     },
     "execution_count": 8,
     "metadata": {},
     "output_type": "execute_result"
    }
   ],
   "source": [
    "df.shape"
   ]
  },
  {
   "cell_type": "code",
   "execution_count": 9,
   "id": "bd821f08",
   "metadata": {},
   "outputs": [
    {
     "data": {
      "text/plain": [
       "(363874, 30)"
      ]
     },
     "execution_count": 9,
     "metadata": {},
     "output_type": "execute_result"
    }
   ],
   "source": [
    "r.shape"
   ]
  },
  {
   "cell_type": "code",
   "execution_count": 10,
   "id": "e541d1c9",
   "metadata": {},
   "outputs": [],
   "source": [
    "# from sklearn.cluster import KMeans\n",
    "# from sklearn.metrics import silhouette_score\n",
    "\n",
    "# # Determine the optimal number of clusters using silhouette score\n",
    "# max_clusters = 5\n",
    "# best_score = -1\n",
    "# best_k = 2\n",
    "# for k in range(2, max_clusters + 1):\n",
    "#     kmeans = KMeans(n_clusters=k, random_state=42)\n",
    "#     cluster_labels = kmeans.fit_predict(x_train_resample)\n",
    "#     score = silhouette_score(x_train_resample, cluster_labels)\n",
    "#     if score > best_score:\n",
    "#         best_score = score\n",
    "#         best_k = k\n",
    "\n",
    "# # Train K-means with the optimal number of clusters\n",
    "# kmeans = KMeans(n_clusters=best_k, random_state=42)\n",
    "# cluster_labels = kmeans.fit_predict(x_train_resample)\n",
    "\n",
    "# # Identify potential fraud clusters\n",
    "# fraud_cluster = kmeans.cluster_centers_[cluster_labels == cluster_labels.max()]\n",
    "\n",
    "# # Print potential fraud clusters\n",
    "# print(\"Potential Fraud Clusters:\")\n",
    "# for i, cluster in enumerate(fraud_cluster):\n",
    "#     print(f\"Cluster {i+1}: Amount = {cluster[0]}, Time = {cluster[1]}\")\n"
   ]
  },
  {
   "cell_type": "code",
   "execution_count": 1,
   "id": "5f75af15",
   "metadata": {},
   "outputs": [
    {
     "ename": "NameError",
     "evalue": "name 'x' is not defined",
     "output_type": "error",
     "traceback": [
      "\u001b[1;31m---------------------------------------------------------------------------\u001b[0m",
      "\u001b[1;31mNameError\u001b[0m                                 Traceback (most recent call last)",
      "Cell \u001b[1;32mIn[1], line 7\u001b[0m\n\u001b[0;32m      5\u001b[0m \u001b[38;5;66;03m# Initialize and fit K-means clustering model\u001b[39;00m\n\u001b[0;32m      6\u001b[0m kmeans \u001b[38;5;241m=\u001b[39m KMeans(n_clusters\u001b[38;5;241m=\u001b[39m\u001b[38;5;241m2\u001b[39m, random_state\u001b[38;5;241m=\u001b[39m\u001b[38;5;241m42\u001b[39m)\n\u001b[1;32m----> 7\u001b[0m kmeans\u001b[38;5;241m.\u001b[39mfit(x)\n\u001b[0;32m      9\u001b[0m \u001b[38;5;66;03m# Get cluster centroids and labels\u001b[39;00m\n\u001b[0;32m     10\u001b[0m centroids \u001b[38;5;241m=\u001b[39m kmeans\u001b[38;5;241m.\u001b[39mcluster_centers_\n",
      "\u001b[1;31mNameError\u001b[0m: name 'x' is not defined"
     ]
    }
   ],
   "source": [
    "from sklearn.cluster import KMeans\n",
    "import numpy as np\n",
    "import matplotlib.pyplot as plt\n",
    "\n",
    "# Initialize and fit K-means clustering model\n",
    "kmeans = KMeans(n_clusters=2, random_state=42)\n",
    "kmeans.fit(x)\n",
    "\n",
    "# Get cluster centroids and labels\n",
    "centroids = kmeans.cluster_centers_\n",
    "labels = kmeans.labels_   \n",
    "\n",
    "# # Plot the clusters\n",
    "plt.figure(figsize=(8, 6))\n",
    "# Convert DataFrame to numpy array\n",
    "x_array = x.values\n",
    "\n",
    "# Plot the clusters\n",
    "plt.scatter(x_array[:, 0], x_array[:, 1], c=labels, cmap='viridis', s=50, alpha=0.5)\n",
    "\n",
    "plt.scatter(centroids[:, 0], centroids[:, 1], marker='x', c='red', s=200, label='Centroids')\n",
    "plt.title('K-means Clustering')\n",
    "plt.xlabel('Feature 1')\n",
    "plt.ylabel('Feature 2')\n",
    "plt.legend()\n",
    "plt.grid(True)\n",
    "plt.show()\n"
   ]
  },
  {
   "cell_type": "code",
   "execution_count": null,
   "id": "5685ae74",
   "metadata": {},
   "outputs": [],
   "source": []
  },
  {
   "cell_type": "code",
   "execution_count": null,
   "id": "3fb9b7e3",
   "metadata": {},
   "outputs": [],
   "source": []
  },
  {
   "cell_type": "code",
   "execution_count": null,
   "id": "165ce3b7",
   "metadata": {},
   "outputs": [],
   "source": []
  }
 ],
 "metadata": {
  "kernelspec": {
   "display_name": "Python 3 (ipykernel)",
   "language": "python",
   "name": "python3"
  },
  "language_info": {
   "codemirror_mode": {
    "name": "ipython",
    "version": 3
   },
   "file_extension": ".py",
   "mimetype": "text/x-python",
   "name": "python",
   "nbconvert_exporter": "python",
   "pygments_lexer": "ipython3",
   "version": "3.11.5"
  }
 },
 "nbformat": 4,
 "nbformat_minor": 5
}
